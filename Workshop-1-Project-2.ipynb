{
 "cells": [
  {
   "cell_type": "code",
   "execution_count": 9,
   "metadata": {},
   "outputs": [],
   "source": [
    "import pandas as pd\n",
    "import geopandas as gpd\n",
    "import matplotlib.pyplot as plt\n",
    "import seaborn as sns\n",
    "import os\n",
    "from shapely.geometry import Point  \n",
    "\n",
    "\n"
   ]
  },
  {
   "cell_type": "markdown",
   "metadata": {},
   "source": [
    "#### Load Data"
   ]
  },
  {
   "cell_type": "code",
   "execution_count": 10,
   "metadata": {},
   "outputs": [
    {
     "name": "stdout",
     "output_type": "stream",
     "text": [
      "                                     id institutionCode     basisOfRecord  \\\n",
      "0  579a9f82-3eab-45c2-875d-fcb634b84c9a    Nature Kenya  HumanObservation   \n",
      "1  190323ff-2e26-4964-961e-79ac0fe2a73e    Nature Kenya  HumanObservation   \n",
      "2  82c2acec-5ed5-4b92-be62-2b43522a6f46    Nature Kenya  HumanObservation   \n",
      "3  e49afe06-1ab4-410e-8971-186b5967b86b    Nature Kenya  HumanObservation   \n",
      "4  f34df1bf-97f4-47c8-baa8-58a2d40e3b52    Nature Kenya  HumanObservation   \n",
      "\n",
      "                           occurrenceID   occurrenceRemarks  individualCount  \\\n",
      "0  579a9f82-3eab-45c2-875d-fcb634b84c9a  Least Concern (LC)              1.0   \n",
      "1  190323ff-2e26-4964-961e-79ac0fe2a73e  Least Concern (LC)              1.0   \n",
      "2  82c2acec-5ed5-4b92-be62-2b43522a6f46  Least Concern (LC)              1.0   \n",
      "3  e49afe06-1ab4-410e-8971-186b5967b86b  Least Concern (LC)              1.0   \n",
      "4  f34df1bf-97f4-47c8-baa8-58a2d40e3b52  Least Concern (LC)              1.0   \n",
      "\n",
      "    eventDate countryCode  decimalLatitude  decimalLongitude  \\\n",
      "0  2018-01-04          KE        -2.223293         40.967442   \n",
      "1  2018-01-11          KE         0.632465         36.035565   \n",
      "2  2018-01-12          KE         1.010063         37.385208   \n",
      "3  2018-01-13          KE         1.114823         37.460524   \n",
      "4  2018-01-30          KE         1.014339         37.393476   \n",
      "\n",
      "     scientificName   kingdom    phylum class            order        family  \\\n",
      "0  Accipiter badius  Animalia  Chordata  Aves  Accipitriformes  Accipitridae   \n",
      "1  Accipiter badius  Animalia  Chordata  Aves  Accipitriformes  Accipitridae   \n",
      "2  Accipiter badius  Animalia  Chordata  Aves  Accipitriformes  Accipitridae   \n",
      "3  Accipiter badius  Animalia  Chordata  Aves  Accipitriformes  Accipitridae   \n",
      "4  Accipiter badius  Animalia  Chordata  Aves  Accipitriformes  Accipitridae   \n",
      "\n",
      "       genus specificEpithet vernacularName  \n",
      "0  Accipiter          badius         Shikra  \n",
      "1  Accipiter          badius         Shikra  \n",
      "2  Accipiter          badius         Shikra  \n",
      "3  Accipiter          badius         Shikra  \n",
      "4  Accipiter          badius         Shikra  \n",
      "Index(['id', 'institutionCode', 'basisOfRecord', 'occurrenceID',\n",
      "       'occurrenceRemarks', 'individualCount', 'eventDate', 'countryCode',\n",
      "       'decimalLatitude', 'decimalLongitude', 'scientificName', 'kingdom',\n",
      "       'phylum', 'class', 'order', 'family', 'genus', 'specificEpithet',\n",
      "       'vernacularName'],\n",
      "      dtype='object')\n"
     ]
    }
   ],
   "source": [
    "# Define the relative path to the data file\n",
    "data_file = 'dwca-birds_nk-v1.5/occurrence.txt'\n",
    "\n",
    "# Load the dataset with tab as the separator\n",
    "data = pd.read_csv(data_file, sep='\\t')\n",
    "\n",
    "# Check the structure of the dataset\n",
    "print(data.head())\n",
    "print(data.columns)"
   ]
  },
  {
   "cell_type": "markdown",
   "metadata": {},
   "source": [
    "#### Pre-processing Data"
   ]
  },
  {
   "cell_type": "code",
   "execution_count": 11,
   "metadata": {},
   "outputs": [
    {
     "name": "stdout",
     "output_type": "stream",
     "text": [
      "id                    0\n",
      "institutionCode       0\n",
      "basisOfRecord         0\n",
      "occurrenceID          0\n",
      "occurrenceRemarks     0\n",
      "individualCount      80\n",
      "eventDate             0\n",
      "countryCode           0\n",
      "decimalLatitude       0\n",
      "decimalLongitude      0\n",
      "scientificName        0\n",
      "kingdom               0\n",
      "phylum                0\n",
      "class                 0\n",
      "order                 0\n",
      "family                0\n",
      "genus                 0\n",
      "specificEpithet       0\n",
      "vernacularName        0\n",
      "dtype: int64\n"
     ]
    }
   ],
   "source": [
    "print(data.isnull().sum())\n"
   ]
  },
  {
   "cell_type": "code",
   "execution_count": 12,
   "metadata": {},
   "outputs": [
    {
     "name": "stdout",
     "output_type": "stream",
     "text": [
      "decimalLatitude     0\n",
      "decimalLongitude    0\n",
      "dtype: int64\n"
     ]
    }
   ],
   "source": [
    "# Check for missing values in important columns\n",
    "print(data[['decimalLatitude', 'decimalLongitude']].isnull().sum())\n",
    "\n",
    "# Drop rows with missing latitude or longitude\n",
    "data.dropna(subset=['decimalLatitude', 'decimalLongitude'], inplace=True)\n"
   ]
  },
  {
   "cell_type": "code",
   "execution_count": 13,
   "metadata": {},
   "outputs": [
    {
     "name": "stdout",
     "output_type": "stream",
     "text": [
      "id                    object\n",
      "institutionCode       object\n",
      "basisOfRecord         object\n",
      "occurrenceID          object\n",
      "occurrenceRemarks     object\n",
      "individualCount      float64\n",
      "eventDate             object\n",
      "countryCode           object\n",
      "decimalLatitude      float64\n",
      "decimalLongitude     float64\n",
      "scientificName        object\n",
      "kingdom               object\n",
      "phylum                object\n",
      "class                 object\n",
      "order                 object\n",
      "family                object\n",
      "genus                 object\n",
      "specificEpithet       object\n",
      "vernacularName        object\n",
      "dtype: object\n"
     ]
    }
   ],
   "source": [
    "print(data.dtypes)\n"
   ]
  },
  {
   "cell_type": "code",
   "execution_count": 14,
   "metadata": {},
   "outputs": [
    {
     "name": "stdout",
     "output_type": "stream",
     "text": [
      "       individualCount  decimalLatitude  decimalLongitude\n",
      "count     89552.000000     89632.000000      89632.000000\n",
      "mean          2.081472        -1.199514         37.039653\n",
      "std          34.485674         1.415014          1.528497\n",
      "min           1.000000        -4.719087         34.016667\n",
      "25%           1.000000        -1.672753         36.256333\n",
      "50%           1.000000        -1.238393         36.800500\n",
      "75%           1.000000        -0.332612         37.532507\n",
      "max        7000.000000         4.201833         41.433333\n"
     ]
    }
   ],
   "source": [
    "print(data.describe())\n"
   ]
  },
  {
   "cell_type": "markdown",
   "metadata": {},
   "source": [
    "#### Try basic requirement from pdf file "
   ]
  },
  {
   "cell_type": "code",
   "execution_count": 15,
   "metadata": {},
   "outputs": [
    {
     "ename": "ImportError",
     "evalue": "dlopen(/Users/admin/anaconda3/lib/python3.11/site-packages/fiona/_env.cpython-311-darwin.so, 0x0002): Library not loaded: @rpath/libpoppler.126.dylib\n  Referenced from: <05BBD4E6-D83E-35E1-8018-5520577D82A9> /Users/admin/anaconda3/lib/libgdal.32.3.6.2.dylib\n  Reason: tried: '/Users/admin/anaconda3/lib/libpoppler.126.dylib' (no such file), '/Users/admin/anaconda3/lib/python3.11/site-packages/fiona/../../../libpoppler.126.dylib' (no such file), '/Users/admin/anaconda3/lib/python3.11/site-packages/fiona/../../../libpoppler.126.dylib' (no such file), '/Users/admin/anaconda3/bin/../lib/libpoppler.126.dylib' (no such file), '/Users/admin/anaconda3/bin/../lib/libpoppler.126.dylib' (no such file), '/usr/local/lib/libpoppler.126.dylib' (no such file), '/usr/lib/libpoppler.126.dylib' (no such file, not in dyld cache)",
     "output_type": "error",
     "traceback": [
      "\u001b[0;31m---------------------------------------------------------------------------\u001b[0m",
      "\u001b[0;31mImportError\u001b[0m                               Traceback (most recent call last)",
      "Cell \u001b[0;32mIn[15], line 1\u001b[0m\n\u001b[0;32m----> 1\u001b[0m \u001b[38;5;28;01mimport\u001b[39;00m \u001b[38;5;21;01mfiona\u001b[39;00m\n\u001b[1;32m      2\u001b[0m \u001b[38;5;28;01mimport\u001b[39;00m \u001b[38;5;21;01mgeopandas\u001b[39;00m \u001b[38;5;28;01mas\u001b[39;00m \u001b[38;5;21;01mgpd\u001b[39;00m\n\u001b[1;32m      3\u001b[0m \u001b[38;5;28mprint\u001b[39m(fiona\u001b[38;5;241m.\u001b[39m__version__)\n",
      "File \u001b[0;32m~/anaconda3/lib/python3.11/site-packages/fiona/__init__.py:86\u001b[0m\n\u001b[1;32m     82\u001b[0m                 \u001b[38;5;28;01mif\u001b[39;00m glob\u001b[38;5;241m.\u001b[39mglob(os\u001b[38;5;241m.\u001b[39mpath\u001b[38;5;241m.\u001b[39mjoin(p, \u001b[38;5;124m\"\u001b[39m\u001b[38;5;124mgdal*.dll\u001b[39m\u001b[38;5;124m\"\u001b[39m)):\n\u001b[1;32m     83\u001b[0m                     os\u001b[38;5;241m.\u001b[39madd_dll_directory(p)\n\u001b[0;32m---> 86\u001b[0m \u001b[38;5;28;01mfrom\u001b[39;00m \u001b[38;5;21;01mfiona\u001b[39;00m\u001b[38;5;21;01m.\u001b[39;00m\u001b[38;5;21;01m_env\u001b[39;00m \u001b[38;5;28;01mimport\u001b[39;00m (\n\u001b[1;32m     87\u001b[0m     calc_gdal_version_num,\n\u001b[1;32m     88\u001b[0m     get_gdal_release_name,\n\u001b[1;32m     89\u001b[0m     get_gdal_version_num,\n\u001b[1;32m     90\u001b[0m     get_gdal_version_tuple,\n\u001b[1;32m     91\u001b[0m )\n\u001b[1;32m     92\u001b[0m \u001b[38;5;28;01mfrom\u001b[39;00m \u001b[38;5;21;01mfiona\u001b[39;00m\u001b[38;5;21;01m.\u001b[39;00m\u001b[38;5;21;01m_env\u001b[39;00m \u001b[38;5;28;01mimport\u001b[39;00m driver_count\n\u001b[1;32m     93\u001b[0m \u001b[38;5;28;01mfrom\u001b[39;00m \u001b[38;5;21;01mfiona\u001b[39;00m\u001b[38;5;21;01m.\u001b[39;00m\u001b[38;5;21;01m_show_versions\u001b[39;00m \u001b[38;5;28;01mimport\u001b[39;00m show_versions\n",
      "\u001b[0;31mImportError\u001b[0m: dlopen(/Users/admin/anaconda3/lib/python3.11/site-packages/fiona/_env.cpython-311-darwin.so, 0x0002): Library not loaded: @rpath/libpoppler.126.dylib\n  Referenced from: <05BBD4E6-D83E-35E1-8018-5520577D82A9> /Users/admin/anaconda3/lib/libgdal.32.3.6.2.dylib\n  Reason: tried: '/Users/admin/anaconda3/lib/libpoppler.126.dylib' (no such file), '/Users/admin/anaconda3/lib/python3.11/site-packages/fiona/../../../libpoppler.126.dylib' (no such file), '/Users/admin/anaconda3/lib/python3.11/site-packages/fiona/../../../libpoppler.126.dylib' (no such file), '/Users/admin/anaconda3/bin/../lib/libpoppler.126.dylib' (no such file), '/Users/admin/anaconda3/bin/../lib/libpoppler.126.dylib' (no such file), '/usr/local/lib/libpoppler.126.dylib' (no such file), '/usr/lib/libpoppler.126.dylib' (no such file, not in dyld cache)"
     ]
    }
   ],
   "source": [
    "import fiona\n",
    "import geopandas as gpd\n",
    "print(fiona.__version__)\n",
    "print(gpd.__version__)\n"
   ]
  },
  {
   "cell_type": "code",
   "execution_count": null,
   "metadata": {},
   "outputs": [
    {
     "ename": "ImportError",
     "evalue": "the 'read_file' function requires the 'fiona' package, but it is not installed or does not import correctly.\nImporting fiona resulted in: dlopen(/Users/admin/anaconda3/lib/python3.11/site-packages/fiona/_env.cpython-311-darwin.so, 0x0002): Library not loaded: @rpath/libpoppler.126.dylib\n  Referenced from: <413E6A19-458B-3234-A9DD-C70570AB464D> /Users/admin/anaconda3/lib/libgdal.32.3.6.2.dylib\n  Reason: tried: '/Users/admin/anaconda3/lib/libpoppler.126.dylib' (no such file), '/Users/admin/anaconda3/lib/python3.11/site-packages/fiona/../../../libpoppler.126.dylib' (no such file), '/Users/admin/anaconda3/lib/python3.11/site-packages/fiona/../../../libpoppler.126.dylib' (no such file), '/Users/admin/anaconda3/bin/../lib/libpoppler.126.dylib' (no such file), '/Users/admin/anaconda3/bin/../lib/libpoppler.126.dylib' (no such file), '/usr/local/lib/libpoppler.126.dylib' (no such file), '/usr/lib/libpoppler.126.dylib' (no such file, not in dyld cache)",
     "output_type": "error",
     "traceback": [
      "\u001b[0;31m---------------------------------------------------------------------------\u001b[0m",
      "\u001b[0;31mImportError\u001b[0m                               Traceback (most recent call last)",
      "Cell \u001b[0;32mIn[34], line 3\u001b[0m\n\u001b[1;32m      1\u001b[0m \u001b[38;5;66;03m# Make sure to adjust the path according to where you saved the KEN_adm folder.\u001b[39;00m\n\u001b[1;32m      2\u001b[0m kenya_shapefile_path \u001b[38;5;241m=\u001b[39m \u001b[38;5;124m'\u001b[39m\u001b[38;5;124mKEN_adm/KEN_adm0.shp\u001b[39m\u001b[38;5;124m'\u001b[39m  \u001b[38;5;66;03m# Replace with the actual path\u001b[39;00m\n\u001b[0;32m----> 3\u001b[0m kenya_shapefile \u001b[38;5;241m=\u001b[39m gpd\u001b[38;5;241m.\u001b[39mread_file(kenya_shapefile_path)\n",
      "File \u001b[0;32m~/anaconda3/lib/python3.11/site-packages/geopandas/io/file.py:127\u001b[0m, in \u001b[0;36m_read_file\u001b[0;34m(filename, bbox, mask, rows, **kwargs)\u001b[0m\n\u001b[1;32m     66\u001b[0m \u001b[38;5;28;01mdef\u001b[39;00m \u001b[38;5;21m_read_file\u001b[39m(filename, bbox\u001b[38;5;241m=\u001b[39m\u001b[38;5;28;01mNone\u001b[39;00m, mask\u001b[38;5;241m=\u001b[39m\u001b[38;5;28;01mNone\u001b[39;00m, rows\u001b[38;5;241m=\u001b[39m\u001b[38;5;28;01mNone\u001b[39;00m, \u001b[38;5;241m*\u001b[39m\u001b[38;5;241m*\u001b[39mkwargs):\n\u001b[1;32m     67\u001b[0m \u001b[38;5;250m    \u001b[39m\u001b[38;5;124;03m\"\"\"\u001b[39;00m\n\u001b[1;32m     68\u001b[0m \u001b[38;5;124;03m    Returns a GeoDataFrame from a file or URL.\u001b[39;00m\n\u001b[1;32m     69\u001b[0m \n\u001b[0;32m   (...)\u001b[0m\n\u001b[1;32m    125\u001b[0m \u001b[38;5;124;03m    by using the encoding keyword parameter, e.g. ``encoding='utf-8'``.\u001b[39;00m\n\u001b[1;32m    126\u001b[0m \u001b[38;5;124;03m    \"\"\"\u001b[39;00m\n\u001b[0;32m--> 127\u001b[0m     _check_fiona(\u001b[38;5;124m\"\u001b[39m\u001b[38;5;124m'\u001b[39m\u001b[38;5;124mread_file\u001b[39m\u001b[38;5;124m'\u001b[39m\u001b[38;5;124m function\u001b[39m\u001b[38;5;124m\"\u001b[39m)\n\u001b[1;32m    128\u001b[0m     \u001b[38;5;28;01mif\u001b[39;00m _is_url(filename):\n\u001b[1;32m    129\u001b[0m         req \u001b[38;5;241m=\u001b[39m _urlopen(filename)\n",
      "File \u001b[0;32m~/anaconda3/lib/python3.11/site-packages/geopandas/io/file.py:42\u001b[0m, in \u001b[0;36m_check_fiona\u001b[0;34m(func)\u001b[0m\n\u001b[1;32m     40\u001b[0m \u001b[38;5;28;01mdef\u001b[39;00m \u001b[38;5;21m_check_fiona\u001b[39m(func):\n\u001b[1;32m     41\u001b[0m     \u001b[38;5;28;01mif\u001b[39;00m fiona \u001b[38;5;129;01mis\u001b[39;00m \u001b[38;5;28;01mNone\u001b[39;00m:\n\u001b[0;32m---> 42\u001b[0m         \u001b[38;5;28;01mraise\u001b[39;00m \u001b[38;5;167;01mImportError\u001b[39;00m(\n\u001b[1;32m     43\u001b[0m             \u001b[38;5;124mf\u001b[39m\u001b[38;5;124m\"\u001b[39m\u001b[38;5;124mthe \u001b[39m\u001b[38;5;132;01m{\u001b[39;00mfunc\u001b[38;5;132;01m}\u001b[39;00m\u001b[38;5;124m requires the \u001b[39m\u001b[38;5;124m'\u001b[39m\u001b[38;5;124mfiona\u001b[39m\u001b[38;5;124m'\u001b[39m\u001b[38;5;124m package, but it is not installed or does \u001b[39m\u001b[38;5;124m\"\u001b[39m\n\u001b[1;32m     44\u001b[0m             \u001b[38;5;124mf\u001b[39m\u001b[38;5;124m\"\u001b[39m\u001b[38;5;124mnot import correctly.\u001b[39m\u001b[38;5;130;01m\\n\u001b[39;00m\u001b[38;5;124mImporting fiona resulted in: \u001b[39m\u001b[38;5;132;01m{\u001b[39;00mfiona_import_error\u001b[38;5;132;01m}\u001b[39;00m\u001b[38;5;124m\"\u001b[39m\n\u001b[1;32m     45\u001b[0m         )\n",
      "\u001b[0;31mImportError\u001b[0m: the 'read_file' function requires the 'fiona' package, but it is not installed or does not import correctly.\nImporting fiona resulted in: dlopen(/Users/admin/anaconda3/lib/python3.11/site-packages/fiona/_env.cpython-311-darwin.so, 0x0002): Library not loaded: @rpath/libpoppler.126.dylib\n  Referenced from: <413E6A19-458B-3234-A9DD-C70570AB464D> /Users/admin/anaconda3/lib/libgdal.32.3.6.2.dylib\n  Reason: tried: '/Users/admin/anaconda3/lib/libpoppler.126.dylib' (no such file), '/Users/admin/anaconda3/lib/python3.11/site-packages/fiona/../../../libpoppler.126.dylib' (no such file), '/Users/admin/anaconda3/lib/python3.11/site-packages/fiona/../../../libpoppler.126.dylib' (no such file), '/Users/admin/anaconda3/bin/../lib/libpoppler.126.dylib' (no such file), '/Users/admin/anaconda3/bin/../lib/libpoppler.126.dylib' (no such file), '/usr/local/lib/libpoppler.126.dylib' (no such file), '/usr/lib/libpoppler.126.dylib' (no such file, not in dyld cache)"
     ]
    }
   ],
   "source": [
    "# Load the Kenya boudary\n",
    "kenya_shapefile_path = 'KEN_adm/KEN_adm0.shp'  \n",
    "kenya_shapefile = gpd.read_file(kenya_shapefile_path)\n"
   ]
  },
  {
   "cell_type": "code",
   "execution_count": null,
   "metadata": {},
   "outputs": [],
   "source": []
  }
 ],
 "metadata": {
  "kernelspec": {
   "display_name": "base",
   "language": "python",
   "name": "python3"
  },
  "language_info": {
   "codemirror_mode": {
    "name": "ipython",
    "version": 3
   },
   "file_extension": ".py",
   "mimetype": "text/x-python",
   "name": "python",
   "nbconvert_exporter": "python",
   "pygments_lexer": "ipython3",
   "version": "3.11.5"
  }
 },
 "nbformat": 4,
 "nbformat_minor": 2
}
